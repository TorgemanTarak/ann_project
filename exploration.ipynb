{
 "cells": [
  {
   "cell_type": "code",
   "execution_count": 123,
   "id": "4e14eacb-65ca-4956-8807-6eca6c26d3fc",
   "metadata": {},
   "outputs": [],
   "source": [
    "from helpers import *\n",
    "from scipy import stats\n",
    "import plotly.express as px\n",
    "import pandas as pd\n",
    "import seaborn as sns\n",
    "import bornly as bx\n",
    "import torch\n",
    "from torch import nn\n",
    "device = torch.device(\"cuda:0\")"
   ]
  },
  {
   "cell_type": "markdown",
   "id": "eb4c1ffe-b70f-4dfc-a5f0-48e26396bc1d",
   "metadata": {},
   "source": [
    "## Just some exploration"
   ]
  },
  {
   "cell_type": "raw",
   "id": "949fe980-e278-4731-aaf0-09d5d04a4a59",
   "metadata": {},
   "source": [
    "rt + γq(st+1, at+1)  at+1 comes from the policy"
   ]
  },
  {
   "cell_type": "code",
   "execution_count": 2,
   "id": "78a22c31-65b1-4e93-827f-a1a9bb98abde",
   "metadata": {},
   "outputs": [],
   "source": [
    "#pip install gym[classic_control]"
   ]
  },
  {
   "cell_type": "code",
   "execution_count": 3,
   "id": "59712b66-7712-4259-b586-ca91cc5ade80",
   "metadata": {},
   "outputs": [],
   "source": [
    "num_episodes=1000\n",
    "num_step=200"
   ]
  },
  {
   "cell_type": "code",
   "execution_count": 4,
   "id": "59527717-6e94-4e94-b59f-6de7ae8e99b8",
   "metadata": {},
   "outputs": [],
   "source": [
    "class HeuristicPendulumAgent:\n",
    "    def __init__(self, env,torque=1):\n",
    "        self.state_size = env.observation_space.shape[0]\n",
    "        self.action_size = env.action_space.shape[0]\n",
    "        self.torque=torque\n",
    "    def compute_action(self, state):\n",
    "        \n",
    "       \n",
    "        if state[1]<1/np.sqrt(2):\n",
    "            if state[2]>0:\n",
    "                return self.torque\n",
    "            else: \n",
    "                return -self.torque\n",
    "        else:\n",
    "            if state[2]>0:\n",
    "                return -self.torque\n",
    "            else:\n",
    "                return self.torque"
   ]
  },
  {
   "cell_type": "code",
   "execution_count": 212,
   "id": "d5aee1e7-7609-4f6b-91b2-662e7461e779",
   "metadata": {},
   "outputs": [
    {
     "ename": "KeyboardInterrupt",
     "evalue": "",
     "output_type": "error",
     "traceback": [
      "\u001b[1;31m---------------------------------------------------------------------------\u001b[0m",
      "\u001b[1;31mKeyboardInterrupt\u001b[0m                         Traceback (most recent call last)",
      "\u001b[1;32m~\\AppData\\Local\\Temp\\ipykernel_25364\\3713551945.py\u001b[0m in \u001b[0;36m<module>\u001b[1;34m\u001b[0m\n\u001b[0;32m     16\u001b[0m         \u001b[1;31m# Take a random action\u001b[0m\u001b[1;33m\u001b[0m\u001b[1;33m\u001b[0m\u001b[0m\n\u001b[0;32m     17\u001b[0m         \u001b[0maction\u001b[0m \u001b[1;33m=\u001b[0m \u001b[0magent\u001b[0m\u001b[1;33m.\u001b[0m\u001b[0mcompute_action\u001b[0m\u001b[1;33m(\u001b[0m\u001b[0mstate\u001b[0m\u001b[1;33m)\u001b[0m\u001b[1;33m\u001b[0m\u001b[1;33m\u001b[0m\u001b[0m\n\u001b[1;32m---> 18\u001b[1;33m         \u001b[0mnext_state\u001b[0m\u001b[1;33m,\u001b[0m \u001b[0mreward\u001b[0m\u001b[1;33m,\u001b[0m \u001b[0mterminated\u001b[0m\u001b[1;33m,\u001b[0m \u001b[0mtruncated\u001b[0m \u001b[1;33m,\u001b[0m \u001b[0minfo\u001b[0m \u001b[1;33m=\u001b[0m \u001b[0menv\u001b[0m\u001b[1;33m.\u001b[0m\u001b[0mstep\u001b[0m\u001b[1;33m(\u001b[0m\u001b[0maction\u001b[0m\u001b[1;33m)\u001b[0m\u001b[1;33m\u001b[0m\u001b[1;33m\u001b[0m\u001b[0m\n\u001b[0m\u001b[0;32m     19\u001b[0m         \u001b[0mstate\u001b[0m \u001b[1;33m=\u001b[0m \u001b[0mnext_state\u001b[0m\u001b[1;33m\u001b[0m\u001b[1;33m\u001b[0m\u001b[0m\n\u001b[0;32m     20\u001b[0m         \u001b[0mtotal_reward\u001b[0m \u001b[1;33m+=\u001b[0m \u001b[0mreward\u001b[0m\u001b[1;33m\u001b[0m\u001b[1;33m\u001b[0m\u001b[0m\n",
      "\u001b[1;32m~\\anaconda3\\lib\\site-packages\\gym\\core.py\u001b[0m in \u001b[0;36mstep\u001b[1;34m(self, action)\u001b[0m\n\u001b[0;32m    458\u001b[0m     \u001b[1;32mdef\u001b[0m \u001b[0mstep\u001b[0m\u001b[1;33m(\u001b[0m\u001b[0mself\u001b[0m\u001b[1;33m,\u001b[0m \u001b[0maction\u001b[0m\u001b[1;33m)\u001b[0m\u001b[1;33m:\u001b[0m\u001b[1;33m\u001b[0m\u001b[1;33m\u001b[0m\u001b[0m\n\u001b[0;32m    459\u001b[0m         \u001b[1;34m\"\"\"Runs the environment :meth:`env.step` using the modified ``action`` from :meth:`self.action`.\"\"\"\u001b[0m\u001b[1;33m\u001b[0m\u001b[1;33m\u001b[0m\u001b[0m\n\u001b[1;32m--> 460\u001b[1;33m         \u001b[1;32mreturn\u001b[0m \u001b[0mself\u001b[0m\u001b[1;33m.\u001b[0m\u001b[0menv\u001b[0m\u001b[1;33m.\u001b[0m\u001b[0mstep\u001b[0m\u001b[1;33m(\u001b[0m\u001b[0mself\u001b[0m\u001b[1;33m.\u001b[0m\u001b[0maction\u001b[0m\u001b[1;33m(\u001b[0m\u001b[0maction\u001b[0m\u001b[1;33m)\u001b[0m\u001b[1;33m)\u001b[0m\u001b[1;33m\u001b[0m\u001b[1;33m\u001b[0m\u001b[0m\n\u001b[0m\u001b[0;32m    461\u001b[0m \u001b[1;33m\u001b[0m\u001b[0m\n\u001b[0;32m    462\u001b[0m     \u001b[1;32mdef\u001b[0m \u001b[0maction\u001b[0m\u001b[1;33m(\u001b[0m\u001b[0mself\u001b[0m\u001b[1;33m,\u001b[0m \u001b[0maction\u001b[0m\u001b[1;33m)\u001b[0m\u001b[1;33m:\u001b[0m\u001b[1;33m\u001b[0m\u001b[1;33m\u001b[0m\u001b[0m\n",
      "\u001b[1;32m~\\anaconda3\\lib\\site-packages\\gym\\wrappers\\time_limit.py\u001b[0m in \u001b[0;36mstep\u001b[1;34m(self, action)\u001b[0m\n\u001b[0;32m     48\u001b[0m \u001b[1;33m\u001b[0m\u001b[0m\n\u001b[0;32m     49\u001b[0m         \"\"\"\n\u001b[1;32m---> 50\u001b[1;33m         \u001b[0mobservation\u001b[0m\u001b[1;33m,\u001b[0m \u001b[0mreward\u001b[0m\u001b[1;33m,\u001b[0m \u001b[0mterminated\u001b[0m\u001b[1;33m,\u001b[0m \u001b[0mtruncated\u001b[0m\u001b[1;33m,\u001b[0m \u001b[0minfo\u001b[0m \u001b[1;33m=\u001b[0m \u001b[0mself\u001b[0m\u001b[1;33m.\u001b[0m\u001b[0menv\u001b[0m\u001b[1;33m.\u001b[0m\u001b[0mstep\u001b[0m\u001b[1;33m(\u001b[0m\u001b[0maction\u001b[0m\u001b[1;33m)\u001b[0m\u001b[1;33m\u001b[0m\u001b[1;33m\u001b[0m\u001b[0m\n\u001b[0m\u001b[0;32m     51\u001b[0m         \u001b[0mself\u001b[0m\u001b[1;33m.\u001b[0m\u001b[0m_elapsed_steps\u001b[0m \u001b[1;33m+=\u001b[0m \u001b[1;36m1\u001b[0m\u001b[1;33m\u001b[0m\u001b[1;33m\u001b[0m\u001b[0m\n\u001b[0;32m     52\u001b[0m \u001b[1;33m\u001b[0m\u001b[0m\n",
      "\u001b[1;32m~\\anaconda3\\lib\\site-packages\\gym\\wrappers\\order_enforcing.py\u001b[0m in \u001b[0;36mstep\u001b[1;34m(self, action)\u001b[0m\n\u001b[0;32m     35\u001b[0m         \u001b[1;32mif\u001b[0m \u001b[1;32mnot\u001b[0m \u001b[0mself\u001b[0m\u001b[1;33m.\u001b[0m\u001b[0m_has_reset\u001b[0m\u001b[1;33m:\u001b[0m\u001b[1;33m\u001b[0m\u001b[1;33m\u001b[0m\u001b[0m\n\u001b[0;32m     36\u001b[0m             \u001b[1;32mraise\u001b[0m \u001b[0mResetNeeded\u001b[0m\u001b[1;33m(\u001b[0m\u001b[1;34m\"Cannot call env.step() before calling env.reset()\"\u001b[0m\u001b[1;33m)\u001b[0m\u001b[1;33m\u001b[0m\u001b[1;33m\u001b[0m\u001b[0m\n\u001b[1;32m---> 37\u001b[1;33m         \u001b[1;32mreturn\u001b[0m \u001b[0mself\u001b[0m\u001b[1;33m.\u001b[0m\u001b[0menv\u001b[0m\u001b[1;33m.\u001b[0m\u001b[0mstep\u001b[0m\u001b[1;33m(\u001b[0m\u001b[0maction\u001b[0m\u001b[1;33m)\u001b[0m\u001b[1;33m\u001b[0m\u001b[1;33m\u001b[0m\u001b[0m\n\u001b[0m\u001b[0;32m     38\u001b[0m \u001b[1;33m\u001b[0m\u001b[0m\n\u001b[0;32m     39\u001b[0m     \u001b[1;32mdef\u001b[0m \u001b[0mreset\u001b[0m\u001b[1;33m(\u001b[0m\u001b[0mself\u001b[0m\u001b[1;33m,\u001b[0m \u001b[1;33m**\u001b[0m\u001b[0mkwargs\u001b[0m\u001b[1;33m)\u001b[0m\u001b[1;33m:\u001b[0m\u001b[1;33m\u001b[0m\u001b[1;33m\u001b[0m\u001b[0m\n",
      "\u001b[1;32m~\\anaconda3\\lib\\site-packages\\gym\\wrappers\\env_checker.py\u001b[0m in \u001b[0;36mstep\u001b[1;34m(self, action)\u001b[0m\n\u001b[0;32m     37\u001b[0m             \u001b[1;32mreturn\u001b[0m \u001b[0menv_step_passive_checker\u001b[0m\u001b[1;33m(\u001b[0m\u001b[0mself\u001b[0m\u001b[1;33m.\u001b[0m\u001b[0menv\u001b[0m\u001b[1;33m,\u001b[0m \u001b[0maction\u001b[0m\u001b[1;33m)\u001b[0m\u001b[1;33m\u001b[0m\u001b[1;33m\u001b[0m\u001b[0m\n\u001b[0;32m     38\u001b[0m         \u001b[1;32melse\u001b[0m\u001b[1;33m:\u001b[0m\u001b[1;33m\u001b[0m\u001b[1;33m\u001b[0m\u001b[0m\n\u001b[1;32m---> 39\u001b[1;33m             \u001b[1;32mreturn\u001b[0m \u001b[0mself\u001b[0m\u001b[1;33m.\u001b[0m\u001b[0menv\u001b[0m\u001b[1;33m.\u001b[0m\u001b[0mstep\u001b[0m\u001b[1;33m(\u001b[0m\u001b[0maction\u001b[0m\u001b[1;33m)\u001b[0m\u001b[1;33m\u001b[0m\u001b[1;33m\u001b[0m\u001b[0m\n\u001b[0m\u001b[0;32m     40\u001b[0m \u001b[1;33m\u001b[0m\u001b[0m\n\u001b[0;32m     41\u001b[0m     \u001b[1;32mdef\u001b[0m \u001b[0mreset\u001b[0m\u001b[1;33m(\u001b[0m\u001b[0mself\u001b[0m\u001b[1;33m,\u001b[0m \u001b[1;33m**\u001b[0m\u001b[0mkwargs\u001b[0m\u001b[1;33m)\u001b[0m\u001b[1;33m:\u001b[0m\u001b[1;33m\u001b[0m\u001b[1;33m\u001b[0m\u001b[0m\n",
      "\u001b[1;32m~\\anaconda3\\lib\\site-packages\\gym\\envs\\classic_control\\pendulum.py\u001b[0m in \u001b[0;36mstep\u001b[1;34m(self, u)\u001b[0m\n\u001b[0;32m    136\u001b[0m \u001b[1;33m\u001b[0m\u001b[0m\n\u001b[0;32m    137\u001b[0m         \u001b[1;32mif\u001b[0m \u001b[0mself\u001b[0m\u001b[1;33m.\u001b[0m\u001b[0mrender_mode\u001b[0m \u001b[1;33m==\u001b[0m \u001b[1;34m\"human\"\u001b[0m\u001b[1;33m:\u001b[0m\u001b[1;33m\u001b[0m\u001b[1;33m\u001b[0m\u001b[0m\n\u001b[1;32m--> 138\u001b[1;33m             \u001b[0mself\u001b[0m\u001b[1;33m.\u001b[0m\u001b[0mrender\u001b[0m\u001b[1;33m(\u001b[0m\u001b[1;33m)\u001b[0m\u001b[1;33m\u001b[0m\u001b[1;33m\u001b[0m\u001b[0m\n\u001b[0m\u001b[0;32m    139\u001b[0m         \u001b[1;32mreturn\u001b[0m \u001b[0mself\u001b[0m\u001b[1;33m.\u001b[0m\u001b[0m_get_obs\u001b[0m\u001b[1;33m(\u001b[0m\u001b[1;33m)\u001b[0m\u001b[1;33m,\u001b[0m \u001b[1;33m-\u001b[0m\u001b[0mcosts\u001b[0m\u001b[1;33m,\u001b[0m \u001b[1;32mFalse\u001b[0m\u001b[1;33m,\u001b[0m \u001b[1;32mFalse\u001b[0m\u001b[1;33m,\u001b[0m \u001b[1;33m{\u001b[0m\u001b[1;33m}\u001b[0m\u001b[1;33m\u001b[0m\u001b[1;33m\u001b[0m\u001b[0m\n\u001b[0;32m    140\u001b[0m \u001b[1;33m\u001b[0m\u001b[0m\n",
      "\u001b[1;32m~\\anaconda3\\lib\\site-packages\\gym\\envs\\classic_control\\pendulum.py\u001b[0m in \u001b[0;36mrender\u001b[1;34m(self)\u001b[0m\n\u001b[0;32m    251\u001b[0m         \u001b[1;32mif\u001b[0m \u001b[0mself\u001b[0m\u001b[1;33m.\u001b[0m\u001b[0mrender_mode\u001b[0m \u001b[1;33m==\u001b[0m \u001b[1;34m\"human\"\u001b[0m\u001b[1;33m:\u001b[0m\u001b[1;33m\u001b[0m\u001b[1;33m\u001b[0m\u001b[0m\n\u001b[0;32m    252\u001b[0m             \u001b[0mpygame\u001b[0m\u001b[1;33m.\u001b[0m\u001b[0mevent\u001b[0m\u001b[1;33m.\u001b[0m\u001b[0mpump\u001b[0m\u001b[1;33m(\u001b[0m\u001b[1;33m)\u001b[0m\u001b[1;33m\u001b[0m\u001b[1;33m\u001b[0m\u001b[0m\n\u001b[1;32m--> 253\u001b[1;33m             \u001b[0mself\u001b[0m\u001b[1;33m.\u001b[0m\u001b[0mclock\u001b[0m\u001b[1;33m.\u001b[0m\u001b[0mtick\u001b[0m\u001b[1;33m(\u001b[0m\u001b[0mself\u001b[0m\u001b[1;33m.\u001b[0m\u001b[0mmetadata\u001b[0m\u001b[1;33m[\u001b[0m\u001b[1;34m\"render_fps\"\u001b[0m\u001b[1;33m]\u001b[0m\u001b[1;33m)\u001b[0m\u001b[1;33m\u001b[0m\u001b[1;33m\u001b[0m\u001b[0m\n\u001b[0m\u001b[0;32m    254\u001b[0m             \u001b[0mpygame\u001b[0m\u001b[1;33m.\u001b[0m\u001b[0mdisplay\u001b[0m\u001b[1;33m.\u001b[0m\u001b[0mflip\u001b[0m\u001b[1;33m(\u001b[0m\u001b[1;33m)\u001b[0m\u001b[1;33m\u001b[0m\u001b[1;33m\u001b[0m\u001b[0m\n\u001b[0;32m    255\u001b[0m \u001b[1;33m\u001b[0m\u001b[0m\n",
      "\u001b[1;31mKeyboardInterrupt\u001b[0m: "
     ]
    }
   ],
   "source": [
    "# Create the Pendulum environment\n",
    "env = NormalizedEnv(gym.make('Pendulum-v1',render_mode=\"human\"))\n",
    "#agent = RandomAgent(env)\n",
    "agent= HeuristicPendulumAgent(env,0.6)\n",
    "# Set the environment to the initial state\n",
    "state = env.reset()\n",
    "average_total_reward = 0\n",
    "# Run the simulation for 10 time steps\n",
    "for e in range(num_episodes):\n",
    "    state = env.reset()[0]\n",
    "    total_reward = 0\n",
    "    for t in range(num_step):\n",
    "        # Render the environment\n",
    "        env.render()\n",
    "\n",
    "        # Take a random action\n",
    "        action = agent.compute_action(state)\n",
    "        next_state, reward, terminated, truncated , info = env.step(action)\n",
    "        state = next_state\n",
    "        total_reward += reward\n",
    "    # Close the environment\n",
    "    average_total_reward+=total_reward/num_episodes\n",
    "env.close()"
   ]
  },
  {
   "cell_type": "code",
   "execution_count": 213,
   "id": "390ffc0f-6714-4b81-8265-f84a39b3034c",
   "metadata": {},
   "outputs": [],
   "source": [
    "import pygame\n",
    "pygame.display.quit()\n",
    "pygame.quit()"
   ]
  },
  {
   "cell_type": "code",
   "execution_count": 214,
   "id": "04bd7a40-0d3e-4443-8764-c6856af138cc",
   "metadata": {},
   "outputs": [
    {
     "data": {
      "text/plain": [
       "array([-0.9742619 ,  0.22541906, -8.        ], dtype=float32)"
      ]
     },
     "execution_count": 214,
     "metadata": {},
     "output_type": "execute_result"
    }
   ],
   "source": [
    "state"
   ]
  },
  {
   "cell_type": "markdown",
   "id": "c2fc8eac-594f-4452-8c3b-c784973d869b",
   "metadata": {},
   "source": [
    "## Comparaison between random agent and heuristic agent"
   ]
  },
  {
   "cell_type": "code",
   "execution_count": 43,
   "id": "fea0e567-4b93-4f8c-8bc8-15c2efa4d0bb",
   "metadata": {},
   "outputs": [
    {
     "name": "stderr",
     "output_type": "stream",
     "text": [
      "C:\\Users\\torge\\anaconda3\\lib\\site-packages\\gym\\envs\\classic_control\\pendulum.py:167: UserWarning:\n",
      "\n",
      "\u001b[33mWARN: You are calling render method without specifying any render mode. You can specify the render_mode at initialization, e.g. gym(\"Pendulum-v1\", render_mode=\"rgb_array\")\u001b[0m\n",
      "\n"
     ]
    }
   ],
   "source": [
    "# Create the Pendulum environment\n",
    "env = NormalizedEnv(gym.make('Pendulum-v1'))\n",
    "agent = RandomAgent(env)\n",
    "\n",
    "# Set the environment to the initial state\n",
    "state = env.reset()\n",
    "RA_list_total_reward = []\n",
    "# Run the simulation for 10 time steps\n",
    "for e in range(num_episodes):\n",
    "    state = env.reset()[0]\n",
    "    total_reward = 0\n",
    "    for t in range(num_step):\n",
    "        # Render the environment\n",
    "        env.render()\n",
    "\n",
    "        # Take a random action\n",
    "        action = agent.compute_action(state)\n",
    "        next_state, reward, terminated, truncated , info = env.step(action)\n",
    "        state = next_state\n",
    "        total_reward += reward\n",
    "    # Close the environment\n",
    "    RA_list_total_reward.append(total_reward)\n",
    "env.close()"
   ]
  },
  {
   "cell_type": "code",
   "execution_count": 44,
   "id": "d30e9714-2478-4b98-bbf2-a9d6bbd8070c",
   "metadata": {},
   "outputs": [],
   "source": [
    "# Create the Pendulum environment\n",
    "env = NormalizedEnv(gym.make('Pendulum-v1'))\n",
    "agent= HeuristicPendulumAgent(env)\n",
    "\n",
    "# Set the environment to the initial state\n",
    "state = env.reset()\n",
    "HA_list_total_reward = []\n",
    "# Run the simulation for 10 time steps\n",
    "for e in range(num_episodes):\n",
    "    state = env.reset()[0]\n",
    "    total_reward = 0\n",
    "    for t in range(num_step):\n",
    "        # Render the environment\n",
    "        env.render()\n",
    "\n",
    "        # Take a random action\n",
    "        action = agent.compute_action(state)\n",
    "        next_state, reward, terminated, truncated , info = env.step(action)\n",
    "        state = next_state\n",
    "        total_reward += reward\n",
    "    # Close the environment\n",
    "    HA_list_total_reward.append(total_reward)\n",
    "env.close()"
   ]
  },
  {
   "cell_type": "code",
   "execution_count": 45,
   "id": "4e3d0b1c-841a-4c17-b638-5f94bba1ef11",
   "metadata": {},
   "outputs": [],
   "source": [
    "data = list(map(lambda x: ('HA',x),HA_list_total_reward)) + list(map(lambda x: ('RA',x),RA_list_total_reward))"
   ]
  },
  {
   "cell_type": "code",
   "execution_count": 46,
   "id": "bba1e0de-61a2-4e24-8c4b-32f1f00e8577",
   "metadata": {},
   "outputs": [],
   "source": [
    "df = pd.DataFrame(data,columns=['policy','total_reward'])"
   ]
  },
  {
   "cell_type": "code",
   "execution_count": 47,
   "id": "43ecd2eb-b0ca-4c10-9f65-a023f4699b9a",
   "metadata": {},
   "outputs": [
    {
     "data": {
      "text/plain": [
       "(0.0, -1321.298532416723)"
      ]
     },
     "execution_count": 47,
     "metadata": {},
     "output_type": "execute_result"
    },
    {
     "data": {
      "image/png": "[encoded data removed]",
      "text/plain": [
       "<Figure size 640x480 with 1 Axes>"
      ]
     },
     "metadata": {},
     "output_type": "display_data"
    }
   ],
   "source": [
    "plt = sns.barplot(data=df, x=\"policy\", y=\"total_reward\")\n",
    "plt.set_ylim(plt.get_ylim()[::-1])\n"
   ]
  },
  {
   "cell_type": "code",
   "execution_count": 48,
   "id": "9180620e-633e-469d-a728-c5be01b21287",
   "metadata": {},
   "outputs": [
    {
     "data": {
      "text/plain": [
       "Ttest_indResult(statistic=6.524201986811272, pvalue=9.604543800956925e-11)"
      ]
     },
     "execution_count": 48,
     "metadata": {},
     "output_type": "execute_result"
    }
   ],
   "source": [
    "stats.ttest_ind(HA_list_total_reward,RA_list_total_reward,equal_var = False)"
   ]
  },
  {
   "cell_type": "markdown",
   "id": "0caa0d23-3d21-4340-943f-12b88f89e659",
   "metadata": {},
   "source": [
    "Running on 1000 episodes the Welch’s t-test shows that the HA gets a better total reward on average that RA"
   ]
  },
  {
   "cell_type": "code",
   "execution_count": 51,
   "id": "ca49f347-d050-48ff-893e-d4c468ee605a",
   "metadata": {},
   "outputs": [],
   "source": [
    "df = pd.DataFrame(columns=['torque', 'total_reward'])"
   ]
  },
  {
   "cell_type": "code",
   "execution_count": 52,
   "id": "58073f61-cd4a-493e-ab1e-a18a68ae0c79",
   "metadata": {},
   "outputs": [],
   "source": [
    "num_episodes=100"
   ]
  },
  {
   "cell_type": "code",
   "execution_count": 53,
   "id": "00927a00-e970-484e-b911-a18e4bd98f14",
   "metadata": {},
   "outputs": [
    {
     "name": "stderr",
     "output_type": "stream",
     "text": [
      "C:\\Users\\torge\\anaconda3\\lib\\site-packages\\gym\\envs\\classic_control\\pendulum.py:167: UserWarning:\n",
      "\n",
      "\u001b[33mWARN: You are calling render method without specifying any render mode. You can specify the render_mode at initialization, e.g. gym(\"Pendulum-v1\", render_mode=\"rgb_array\")\u001b[0m\n",
      "\n"
     ]
    }
   ],
   "source": [
    "# Create the Pendulum environment\n",
    "env = NormalizedEnv(gym.make('Pendulum-v1'))\n",
    "agent= HeuristicPendulumAgent(env)\n",
    "\n",
    "# Set the environment to the initial state\n",
    "state = env.reset()\n",
    "\n",
    "# Run the simulation for 10 time steps\n",
    "average_reward_torque = []\n",
    "for torque in np.linspace(0.1, 1, num=10):\n",
    "    average_total_reward = 0\n",
    "    agent = HeuristicPendulumAgent(env,torque)\n",
    "    for e in range(num_episodes):\n",
    "        state = env.reset()[0]\n",
    "        total_reward = 0\n",
    "        for t in range(num_step):\n",
    "            # Render the environment\n",
    "            env.render()\n",
    "\n",
    "            # Take a random action\n",
    "            action = agent.compute_action(state)\n",
    "            next_state, reward, terminated, truncated , info = env.step(action)\n",
    "            state = next_state\n",
    "            total_reward += reward\n",
    "        # Close the environment\n",
    "        \n",
    "        average_total_reward += (total_reward)/num_episodes\n",
    "        new_row=(torque,total_reward)\n",
    "        df = pd.concat([df, pd.DataFrame([new_row], columns=df.columns)], ignore_index=True)\n",
    "    average_reward_torque.append(average_total_reward)\n",
    "env.close()"
   ]
  },
  {
   "cell_type": "code",
   "execution_count": 59,
   "id": "d5dbc4f0-670c-45ce-8a60-7472c91d694c",
   "metadata": {},
   "outputs": [
    {
     "data": {
      "application/vnd.plotly.v1+json": {
       "config": {
        "plotlyServerURL": "https://plot.ly"
       },
       "data": [
        {
         "hovertemplate": "torque=%{x}<br>total_reward=%{y}<extra></extra>",
         "marker": {
          "color": "rgba(31.0, 119.0, 180.0, 1)"
         },
         "mode": "lines",
         "type": "scatter",
         "x": [],
         "xaxis": "x",
         "y": [],
         "yaxis": "y"
        },
        {
         "error_y": {
          "array": [
           56.2656478287081,
           51.47211890616154,
           47.06300906013507,
           33.93244626144383,
           31.968578365513395,
           29.361150853546178,
           26.460801157324113,
           20.91873276088654,
           24.247141999685937,
           22.644577397916237
          ],
          "color": "rgba(0, 0, 0, 0)",
          "type": "data"
         },
         "hovertemplate": "torque=%{x}<br>total_reward=%{y}<extra></extra>",
         "marker": {
          "color": "rgba(31.0, 119.0, 180.0, 1)"
         },
         "mode": "lines",
         "type": "scatter",
         "x": [
          0.1,
          0.2,
          0.30000000000000004,
          0.4,
          0.5,
          0.6,
          0.7000000000000001,
          0.8,
          0.9,
          1
         ],
         "xaxis": "x",
         "y": [
          -1220.282484237671,
          -1164.4236258142319,
          -1116.1497629640587,
          -1129.6073120209999,
          -1116.1957663722828,
          -1094.2068582251393,
          -1118.9088228101843,
          -1128.5548339577417,
          -1113.2042637378474,
          -1151.9625176513173
         ],
         "yaxis": "y"
        },
        {
         "hoverinfo": "skip",
         "line": {
          "color": "rgba(0, 0, 0, 0)"
         },
         "showlegend": false,
         "type": "scatter",
         "x": [
          0.1,
          0.2,
          0.30000000000000004,
          0.4,
          0.5,
          0.6,
          0.7000000000000001,
          0.8,
          0.9,
          1
         ],
         "xaxis": "x",
         "y": [
          -1164.016836408963,
          -1112.9515069080703,
          -1069.0867539039236,
          -1095.674865759556,
          -1084.2271880067694,
          -1064.845707371593,
          -1092.4480216528602,
          -1107.6361011968552,
          -1088.9571217381615,
          -1129.317940253401
         ],
         "yaxis": "y"
        },
        {
         "fill": "tonexty",
         "fillcolor": "rgba(31.0, 119.0, 180.0, 0.2)",
         "hoverinfo": "skip",
         "legendgroup": "",
         "line": {
          "color": "rgba(0, 0, 0, 0)"
         },
         "showlegend": false,
         "type": "scatter",
         "x": [
          0.1,
          0.2,
          0.30000000000000004,
          0.4,
          0.5,
          0.6,
          0.7000000000000001,
          0.8,
          0.9,
          1
         ],
         "xaxis": "x",
         "y": [
          -1274.1034530804095,
          -1216.0376790249109,
          -1162.5537589116823,
          -1164.8740884950403,
          -1148.090499789018,
          -1122.6168611728656,
          -1144.2521259312928,
          -1150.6522848337333,
          -1137.457040922224,
          -1173.9518551503832
         ],
         "yaxis": "y"
        }
       ],
       "layout": {
        "annotations": [
         {
          "font": {
           "size": 16
          },
          "showarrow": false,
          "text": "",
          "x": 0.5,
          "xanchor": "center",
          "xref": "paper",
          "y": 1,
          "yanchor": "bottom",
          "yref": "paper"
         }
        ],
        "autosize": true,
        "legend": {
         "title": {
          "text": ""
         }
        },
        "showlegend": false,
        "template": {
         "data": {
          "bar": [
           {
            "error_x": {
             "color": "#2a3f5f"
            },
            "error_y": {
             "color": "#2a3f5f"
            },
            "marker": {
             "line": {
              "color": "#E5ECF6",
              "width": 0.5
             },
             "pattern": {
              "fillmode": "overlay",
              "size": 10,
              "solidity": 0.2
             }
            },
            "type": "bar"
           }
          ],
          "barpolar": [
           {
            "marker": {
             "line": {
              "color": "#E5ECF6",
              "width": 0.5
             },
             "pattern": {
              "fillmode": "overlay",
              "size": 10,
              "solidity": 0.2
             }
            },
            "type": "barpolar"
           }
          ],
          "carpet": [
           {
            "aaxis": {
             "endlinecolor": "#2a3f5f",
             "gridcolor": "white",
             "linecolor": "white",
             "minorgridcolor": "white",
             "startlinecolor": "#2a3f5f"
            },
            "baxis": {
             "endlinecolor": "#2a3f5f",
             "gridcolor": "white",
             "linecolor": "white",
             "minorgridcolor": "white",
             "startlinecolor": "#2a3f5f"
            },
            "type": "carpet"
           }
          ],
          "choropleth": [
           {
            "colorbar": {
             "outlinewidth": 0,
             "ticks": ""
            },
            "type": "choropleth"
           }
          ],
          "contour": [
           {
            "colorbar": {
             "outlinewidth": 0,
             "ticks": ""
            },
            "colorscale": [
             [
              0,
              "#0d0887"
             ],
             [
              0.1111111111111111,
              "#46039f"
             ],
             [
              0.2222222222222222,
              "#7201a8"
             ],
             [
              0.3333333333333333,
              "#9c179e"
             ],
             [
              0.4444444444444444,
              "#bd3786"
             ],
             [
              0.5555555555555556,
              "#d8576b"
             ],
             [
              0.6666666666666666,
              "#ed7953"
             ],
             [
              0.7777777777777778,
              "#fb9f3a"
             ],
             [
              0.8888888888888888,
              "#fdca26"
             ],
             [
              1,
              "#f0f921"
             ]
            ],
            "type": "contour"
           }
          ],
          "contourcarpet": [
           {
            "colorbar": {
             "outlinewidth": 0,
             "ticks": ""
            },
            "type": "contourcarpet"
           }
          ],
          "heatmap": [
           {
            "colorbar": {
             "outlinewidth": 0,
             "ticks": ""
            },
            "colorscale": [
             [
              0,
              "#0d0887"
             ],
             [
              0.1111111111111111,
              "#46039f"
             ],
             [
              0.2222222222222222,
              "#7201a8"
             ],
             [
              0.3333333333333333,
              "#9c179e"
             ],
             [
              0.4444444444444444,
              "#bd3786"
             ],
             [
              0.5555555555555556,
              "#d8576b"
             ],
             [
              0.6666666666666666,
              "#ed7953"
             ],
             [
              0.7777777777777778,
              "#fb9f3a"
             ],
             [
              0.8888888888888888,
              "#fdca26"
             ],
             [
              1,
              "#f0f921"
             ]
            ],
            "type": "heatmap"
           }
          ],
          "heatmapgl": [
           {
            "colorbar": {
             "outlinewidth": 0,
             "ticks": ""
            },
            "colorscale": [
             [
              0,
              "#0d0887"
             ],
             [
              0.1111111111111111,
              "#46039f"
             ],
             [
              0.2222222222222222,
              "#7201a8"
             ],
             [
              0.3333333333333333,
              "#9c179e"
             ],
             [
              0.4444444444444444,
              "#bd3786"
             ],
             [
              0.5555555555555556,
              "#d8576b"
             ],
             [
              0.6666666666666666,
              "#ed7953"
             ],
             [
              0.7777777777777778,
              "#fb9f3a"
             ],
             [
              0.8888888888888888,
              "#fdca26"
             ],
             [
              1,
              "#f0f921"
             ]
            ],
            "type": "heatmapgl"
           }
          ],
          "histogram": [
           {
            "marker": {
             "pattern": {
              "fillmode": "overlay",
              "size": 10,
              "solidity": 0.2
             }
            },
            "type": "histogram"
           }
          ],
          "histogram2d": [
           {
            "colorbar": {
             "outlinewidth": 0,
             "ticks": ""
            },
            "colorscale": [
             [
              0,
              "#0d0887"
             ],
             [
              0.1111111111111111,
              "#46039f"
             ],
             [
              0.2222222222222222,
              "#7201a8"
             ],
             [
              0.3333333333333333,
              "#9c179e"
             ],
             [
              0.4444444444444444,
              "#bd3786"
             ],
             [
              0.5555555555555556,
              "#d8576b"
             ],
             [
              0.6666666666666666,
              "#ed7953"
             ],
             [
              0.7777777777777778,
              "#fb9f3a"
             ],
             [
              0.8888888888888888,
              "#fdca26"
             ],
             [
              1,
              "#f0f921"
             ]
            ],
            "type": "histogram2d"
           }
          ],
          "histogram2dcontour": [
           {
            "colorbar": {
             "outlinewidth": 0,
             "ticks": ""
            },
            "colorscale": [
             [
              0,
              "#0d0887"
             ],
             [
              0.1111111111111111,
              "#46039f"
             ],
             [
              0.2222222222222222,
              "#7201a8"
             ],
             [
              0.3333333333333333,
              "#9c179e"
             ],
             [
              0.4444444444444444,
              "#bd3786"
             ],
             [
              0.5555555555555556,
              "#d8576b"
             ],
             [
              0.6666666666666666,
              "#ed7953"
             ],
             [
              0.7777777777777778,
              "#fb9f3a"
             ],
             [
              0.8888888888888888,
              "#fdca26"
             ],
             [
              1,
              "#f0f921"
             ]
            ],
            "type": "histogram2dcontour"
           }
          ],
          "mesh3d": [
           {
            "colorbar": {
             "outlinewidth": 0,
             "ticks": ""
            },
            "type": "mesh3d"
           }
          ],
          "parcoords": [
           {
            "line": {
             "colorbar": {
              "outlinewidth": 0,
              "ticks": ""
             }
            },
            "type": "parcoords"
           }
          ],
          "pie": [
           {
            "automargin": true,
            "type": "pie"
           }
          ],
          "scatter": [
           {
            "fillpattern": {
             "fillmode": "overlay",
             "size": 10,
             "solidity": 0.2
            },
            "type": "scatter"
           }
          ],
          "scatter3d": [
           {
            "line": {
             "colorbar": {
              "outlinewidth": 0,
              "ticks": ""
             }
            },
            "marker": {
             "colorbar": {
              "outlinewidth": 0,
              "ticks": ""
             }
            },
            "type": "scatter3d"
           }
          ],
          "scattercarpet": [
           {
            "marker": {
             "colorbar": {
              "outlinewidth": 0,
              "ticks": ""
             }
            },
            "type": "scattercarpet"
           }
          ],
          "scattergeo": [
           {
            "marker": {
             "colorbar": {
              "outlinewidth": 0,
              "ticks": ""
             }
            },
            "type": "scattergeo"
           }
          ],
          "scattergl": [
           {
            "marker": {
             "colorbar": {
              "outlinewidth": 0,
              "ticks": ""
             }
            },
            "type": "scattergl"
           }
          ],
          "scattermapbox": [
           {
            "marker": {
             "colorbar": {
              "outlinewidth": 0,
              "ticks": ""
             }
            },
            "type": "scattermapbox"
           }
          ],
          "scatterpolar": [
           {
            "marker": {
             "colorbar": {
              "outlinewidth": 0,
              "ticks": ""
             }
            },
            "type": "scatterpolar"
           }
          ],
          "scatterpolargl": [
           {
            "marker": {
             "colorbar": {
              "outlinewidth": 0,
              "ticks": ""
             }
            },
            "type": "scatterpolargl"
           }
          ],
          "scatterternary": [
           {
            "marker": {
             "colorbar": {
              "outlinewidth": 0,
              "ticks": ""
             }
            },
            "type": "scatterternary"
           }
          ],
          "surface": [
           {
            "colorbar": {
             "outlinewidth": 0,
             "ticks": ""
            },
            "colorscale": [
             [
              0,
              "#0d0887"
             ],
             [
              0.1111111111111111,
              "#46039f"
             ],
             [
              0.2222222222222222,
              "#7201a8"
             ],
             [
              0.3333333333333333,
              "#9c179e"
             ],
             [
              0.4444444444444444,
              "#bd3786"
             ],
             [
              0.5555555555555556,
              "#d8576b"
             ],
             [
              0.6666666666666666,
              "#ed7953"
             ],
             [
              0.7777777777777778,
              "#fb9f3a"
             ],
             [
              0.8888888888888888,
              "#fdca26"
             ],
             [
              1,
              "#f0f921"
             ]
            ],
            "type": "surface"
           }
          ],
          "table": [
           {
            "cells": {
             "fill": {
              "color": "#EBF0F8"
             },
             "line": {
              "color": "white"
             }
            },
            "header": {
             "fill": {
              "color": "#C8D4E3"
             },
             "line": {
              "color": "white"
             }
            },
            "type": "table"
           }
          ]
         },
         "layout": {
          "annotationdefaults": {
           "arrowcolor": "#2a3f5f",
           "arrowhead": 0,
           "arrowwidth": 1
          },
          "autotypenumbers": "strict",
          "coloraxis": {
           "colorbar": {
            "outlinewidth": 0,
            "ticks": ""
           }
          },
          "colorscale": {
           "diverging": [
            [
             0,
             "#8e0152"
            ],
            [
             0.1,
             "#c51b7d"
            ],
            [
             0.2,
             "#de77ae"
            ],
            [
             0.3,
             "#f1b6da"
            ],
            [
             0.4,
             "#fde0ef"
            ],
            [
             0.5,
             "#f7f7f7"
            ],
            [
             0.6,
             "#e6f5d0"
            ],
            [
             0.7,
             "#b8e186"
            ],
            [
             0.8,
             "#7fbc41"
            ],
            [
             0.9,
             "#4d9221"
            ],
            [
             1,
             "#276419"
            ]
           ],
           "sequential": [
            [
             0,
             "#0d0887"
            ],
            [
             0.1111111111111111,
             "#46039f"
            ],
            [
             0.2222222222222222,
             "#7201a8"
            ],
            [
             0.3333333333333333,
             "#9c179e"
            ],
            [
             0.4444444444444444,
             "#bd3786"
            ],
            [
             0.5555555555555556,
             "#d8576b"
            ],
            [
             0.6666666666666666,
             "#ed7953"
            ],
            [
             0.7777777777777778,
             "#fb9f3a"
            ],
            [
             0.8888888888888888,
             "#fdca26"
            ],
            [
             1,
             "#f0f921"
            ]
           ],
           "sequentialminus": [
            [
             0,
             "#0d0887"
            ],
            [
             0.1111111111111111,
             "#46039f"
            ],
            [
             0.2222222222222222,
             "#7201a8"
            ],
            [
             0.3333333333333333,
             "#9c179e"
            ],
            [
             0.4444444444444444,
             "#bd3786"
            ],
            [
             0.5555555555555556,
             "#d8576b"
            ],
            [
             0.6666666666666666,
             "#ed7953"
            ],
            [
             0.7777777777777778,
             "#fb9f3a"
            ],
            [
             0.8888888888888888,
             "#fdca26"
            ],
            [
             1,
             "#f0f921"
            ]
           ]
          },
          "colorway": [
           "#636efa",
           "#EF553B",
           "#00cc96",
           "#ab63fa",
           "#FFA15A",
           "#19d3f3",
           "#FF6692",
           "#B6E880",
           "#FF97FF",
           "#FECB52"
          ],
          "font": {
           "color": "#2a3f5f"
          },
          "geo": {
           "bgcolor": "white",
           "lakecolor": "white",
           "landcolor": "#E5ECF6",
           "showlakes": true,
           "showland": true,
           "subunitcolor": "white"
          },
          "hoverlabel": {
           "align": "left"
          },
          "hovermode": "closest",
          "mapbox": {
           "style": "light"
          },
          "paper_bgcolor": "white",
          "plot_bgcolor": "#E5ECF6",
          "polar": {
           "angularaxis": {
            "gridcolor": "white",
            "linecolor": "white",
            "ticks": ""
           },
           "bgcolor": "#E5ECF6",
           "radialaxis": {
            "gridcolor": "white",
            "linecolor": "white",
            "ticks": ""
           }
          },
          "scene": {
           "xaxis": {
            "backgroundcolor": "#E5ECF6",
            "gridcolor": "white",
            "gridwidth": 2,
            "linecolor": "white",
            "showbackground": true,
            "ticks": "",
            "zerolinecolor": "white"
           },
           "yaxis": {
            "backgroundcolor": "#E5ECF6",
            "gridcolor": "white",
            "gridwidth": 2,
            "linecolor": "white",
            "showbackground": true,
            "ticks": "",
            "zerolinecolor": "white"
           },
           "zaxis": {
            "backgroundcolor": "#E5ECF6",
            "gridcolor": "white",
            "gridwidth": 2,
            "linecolor": "white",
            "showbackground": true,
            "ticks": "",
            "zerolinecolor": "white"
           }
          },
          "shapedefaults": {
           "line": {
            "color": "#2a3f5f"
           }
          },
          "ternary": {
           "aaxis": {
            "gridcolor": "white",
            "linecolor": "white",
            "ticks": ""
           },
           "baxis": {
            "gridcolor": "white",
            "linecolor": "white",
            "ticks": ""
           },
           "bgcolor": "#E5ECF6",
           "caxis": {
            "gridcolor": "white",
            "linecolor": "white",
            "ticks": ""
           }
          },
          "title": {
           "x": 0.05
          },
          "xaxis": {
           "automargin": true,
           "gridcolor": "white",
           "linecolor": "white",
           "ticks": "",
           "title": {
            "standoff": 15
           },
           "zerolinecolor": "white",
           "zerolinewidth": 2
          },
          "yaxis": {
           "automargin": true,
           "gridcolor": "white",
           "linecolor": "white",
           "ticks": "",
           "title": {
            "standoff": 15
           },
           "zerolinecolor": "white",
           "zerolinewidth": 2
          }
         }
        },
        "xaxis": {
         "anchor": "y",
         "autorange": true,
         "domain": [
          0,
          1
         ],
         "range": [
          0.045469372961217835,
          1.0545306270387822
         ],
         "title": {
          "text": "torque"
         },
         "type": "linear"
        },
        "yaxis": {
         "anchor": "x",
         "autorange": true,
         "domain": [
          0,
          1
         ],
         "range": [
          -1291.3722961728847,
          -1047.576864279118
         ],
         "title": {
          "text": "total_reward"
         },
         "type": "linear"
        }
       }
      },
      "image/png": "[encoded data removed]",
      "text/html": [
       "<div>                            <div id=\"e064e404-1c97-42dc-81c6-e1a53fc6a2ad\" class=\"plotly-graph-div\" style=\"height:525px; width:100%;\"></div>            <script type=\"text/javascript\">                require([\"plotly\"], function(Plotly) {                    window.PLOTLYENV=window.PLOTLYENV || {};                                    if (document.getElementById(\"e064e404-1c97-42dc-81c6-e1a53fc6a2ad\")) {                    Plotly.newPlot(                        \"e064e404-1c97-42dc-81c6-e1a53fc6a2ad\",                        [{\"marker\":{\"color\":\"rgba(31.0, 119.0, 180.0, 1)\"},\"mode\":\"lines\",\"x\":[],\"y\":[],\"type\":\"scatter\",\"xaxis\":\"x\",\"yaxis\":\"y\",\"hovertemplate\":\"torque=%{x}<br>total_reward=%{y}<extra></extra>\"},{\"marker\":{\"color\":\"rgba(31.0, 119.0, 180.0, 1)\"},\"mode\":\"lines\",\"x\":[0.1,0.2,0.30000000000000004,0.4,0.5,0.6,0.7000000000000001,0.8,0.9,1.0],\"y\":[-1220.282484237671,-1164.4236258142319,-1116.1497629640587,-1129.6073120209999,-1116.1957663722828,-1094.2068582251393,-1118.9088228101843,-1128.5548339577417,-1113.2042637378474,-1151.9625176513173],\"type\":\"scatter\",\"xaxis\":\"x\",\"yaxis\":\"y\",\"error_y\":{\"array\":[56.2656478287081,51.47211890616154,47.06300906013507,33.93244626144383,31.968578365513395,29.361150853546178,26.460801157324113,20.91873276088654,24.247141999685937,22.644577397916237],\"color\":\"rgba(0, 0, 0, 0)\",\"type\":\"data\"},\"hovertemplate\":\"torque=%{x}<br>total_reward=%{y}<extra></extra>\"},{\"hoverinfo\":\"skip\",\"line\":{\"color\":\"rgba(0,0,0,0)\"},\"showlegend\":false,\"x\":[0.1,0.2,0.30000000000000004,0.4,0.5,0.6,0.7000000000000001,0.8,0.9,1.0],\"y\":[-1164.016836408963,-1112.9515069080703,-1069.0867539039236,-1095.674865759556,-1084.2271880067694,-1064.845707371593,-1092.4480216528602,-1107.6361011968552,-1088.9571217381615,-1129.317940253401],\"type\":\"scatter\",\"xaxis\":\"x\",\"yaxis\":\"y\"},{\"fill\":\"tonexty\",\"fillcolor\":\"rgba(31.0, 119.0, 180.0, 0.2)\",\"hoverinfo\":\"skip\",\"line\":{\"color\":\"rgba(0,0,0,0)\"},\"showlegend\":false,\"x\":[0.1,0.2,0.30000000000000004,0.4,0.5,0.6,0.7000000000000001,0.8,0.9,1.0],\"y\":[-1274.1034530804095,-1216.0376790249109,-1162.5537589116823,-1164.8740884950403,-1148.090499789018,-1122.6168611728656,-1144.2521259312928,-1150.6522848337333,-1137.457040922224,-1173.9518551503832],\"type\":\"scatter\",\"xaxis\":\"x\",\"yaxis\":\"y\",\"legendgroup\":\"\"}],                        {\"template\":{\"data\":{\"histogram2dcontour\":[{\"type\":\"histogram2dcontour\",\"colorbar\":{\"outlinewidth\":0,\"ticks\":\"\"},\"colorscale\":[[0.0,\"#0d0887\"],[0.1111111111111111,\"#46039f\"],[0.2222222222222222,\"#7201a8\"],[0.3333333333333333,\"#9c179e\"],[0.4444444444444444,\"#bd3786\"],[0.5555555555555556,\"#d8576b\"],[0.6666666666666666,\"#ed7953\"],[0.7777777777777778,\"#fb9f3a\"],[0.8888888888888888,\"#fdca26\"],[1.0,\"#f0f921\"]]}],\"choropleth\":[{\"type\":\"choropleth\",\"colorbar\":{\"outlinewidth\":0,\"ticks\":\"\"}}],\"histogram2d\":[{\"type\":\"histogram2d\",\"colorbar\":{\"outlinewidth\":0,\"ticks\":\"\"},\"colorscale\":[[0.0,\"#0d0887\"],[0.1111111111111111,\"#46039f\"],[0.2222222222222222,\"#7201a8\"],[0.3333333333333333,\"#9c179e\"],[0.4444444444444444,\"#bd3786\"],[0.5555555555555556,\"#d8576b\"],[0.6666666666666666,\"#ed7953\"],[0.7777777777777778,\"#fb9f3a\"],[0.8888888888888888,\"#fdca26\"],[1.0,\"#f0f921\"]]}],\"heatmap\":[{\"type\":\"heatmap\",\"colorbar\":{\"outlinewidth\":0,\"ticks\":\"\"},\"colorscale\":[[0.0,\"#0d0887\"],[0.1111111111111111,\"#46039f\"],[0.2222222222222222,\"#7201a8\"],[0.3333333333333333,\"#9c179e\"],[0.4444444444444444,\"#bd3786\"],[0.5555555555555556,\"#d8576b\"],[0.6666666666666666,\"#ed7953\"],[0.7777777777777778,\"#fb9f3a\"],[0.8888888888888888,\"#fdca26\"],[1.0,\"#f0f921\"]]}],\"heatmapgl\":[{\"type\":\"heatmapgl\",\"colorbar\":{\"outlinewidth\":0,\"ticks\":\"\"},\"colorscale\":[[0.0,\"#0d0887\"],[0.1111111111111111,\"#46039f\"],[0.2222222222222222,\"#7201a8\"],[0.3333333333333333,\"#9c179e\"],[0.4444444444444444,\"#bd3786\"],[0.5555555555555556,\"#d8576b\"],[0.6666666666666666,\"#ed7953\"],[0.7777777777777778,\"#fb9f3a\"],[0.8888888888888888,\"#fdca26\"],[1.0,\"#f0f921\"]]}],\"contourcarpet\":[{\"type\":\"contourcarpet\",\"colorbar\":{\"outlinewidth\":0,\"ticks\":\"\"}}],\"contour\":[{\"type\":\"contour\",\"colorbar\":{\"outlinewidth\":0,\"ticks\":\"\"},\"colorscale\":[[0.0,\"#0d0887\"],[0.1111111111111111,\"#46039f\"],[0.2222222222222222,\"#7201a8\"],[0.3333333333333333,\"#9c179e\"],[0.4444444444444444,\"#bd3786\"],[0.5555555555555556,\"#d8576b\"],[0.6666666666666666,\"#ed7953\"],[0.7777777777777778,\"#fb9f3a\"],[0.8888888888888888,\"#fdca26\"],[1.0,\"#f0f921\"]]}],\"surface\":[{\"type\":\"surface\",\"colorbar\":{\"outlinewidth\":0,\"ticks\":\"\"},\"colorscale\":[[0.0,\"#0d0887\"],[0.1111111111111111,\"#46039f\"],[0.2222222222222222,\"#7201a8\"],[0.3333333333333333,\"#9c179e\"],[0.4444444444444444,\"#bd3786\"],[0.5555555555555556,\"#d8576b\"],[0.6666666666666666,\"#ed7953\"],[0.7777777777777778,\"#fb9f3a\"],[0.8888888888888888,\"#fdca26\"],[1.0,\"#f0f921\"]]}],\"mesh3d\":[{\"type\":\"mesh3d\",\"colorbar\":{\"outlinewidth\":0,\"ticks\":\"\"}}],\"scatter\":[{\"fillpattern\":{\"fillmode\":\"overlay\",\"size\":10,\"solidity\":0.2},\"type\":\"scatter\"}],\"parcoords\":[{\"type\":\"parcoords\",\"line\":{\"colorbar\":{\"outlinewidth\":0,\"ticks\":\"\"}}}],\"scatterpolargl\":[{\"type\":\"scatterpolargl\",\"marker\":{\"colorbar\":{\"outlinewidth\":0,\"ticks\":\"\"}}}],\"bar\":[{\"error_x\":{\"color\":\"#2a3f5f\"},\"error_y\":{\"color\":\"#2a3f5f\"},\"marker\":{\"line\":{\"color\":\"#E5ECF6\",\"width\":0.5},\"pattern\":{\"fillmode\":\"overlay\",\"size\":10,\"solidity\":0.2}},\"type\":\"bar\"}],\"scattergeo\":[{\"type\":\"scattergeo\",\"marker\":{\"colorbar\":{\"outlinewidth\":0,\"ticks\":\"\"}}}],\"scatterpolar\":[{\"type\":\"scatterpolar\",\"marker\":{\"colorbar\":{\"outlinewidth\":0,\"ticks\":\"\"}}}],\"histogram\":[{\"marker\":{\"pattern\":{\"fillmode\":\"overlay\",\"size\":10,\"solidity\":0.2}},\"type\":\"histogram\"}],\"scattergl\":[{\"type\":\"scattergl\",\"marker\":{\"colorbar\":{\"outlinewidth\":0,\"ticks\":\"\"}}}],\"scatter3d\":[{\"type\":\"scatter3d\",\"line\":{\"colorbar\":{\"outlinewidth\":0,\"ticks\":\"\"}},\"marker\":{\"colorbar\":{\"outlinewidth\":0,\"ticks\":\"\"}}}],\"scattermapbox\":[{\"type\":\"scattermapbox\",\"marker\":{\"colorbar\":{\"outlinewidth\":0,\"ticks\":\"\"}}}],\"scatterternary\":[{\"type\":\"scatterternary\",\"marker\":{\"colorbar\":{\"outlinewidth\":0,\"ticks\":\"\"}}}],\"scattercarpet\":[{\"type\":\"scattercarpet\",\"marker\":{\"colorbar\":{\"outlinewidth\":0,\"ticks\":\"\"}}}],\"carpet\":[{\"aaxis\":{\"endlinecolor\":\"#2a3f5f\",\"gridcolor\":\"white\",\"linecolor\":\"white\",\"minorgridcolor\":\"white\",\"startlinecolor\":\"#2a3f5f\"},\"baxis\":{\"endlinecolor\":\"#2a3f5f\",\"gridcolor\":\"white\",\"linecolor\":\"white\",\"minorgridcolor\":\"white\",\"startlinecolor\":\"#2a3f5f\"},\"type\":\"carpet\"}],\"table\":[{\"cells\":{\"fill\":{\"color\":\"#EBF0F8\"},\"line\":{\"color\":\"white\"}},\"header\":{\"fill\":{\"color\":\"#C8D4E3\"},\"line\":{\"color\":\"white\"}},\"type\":\"table\"}],\"barpolar\":[{\"marker\":{\"line\":{\"color\":\"#E5ECF6\",\"width\":0.5},\"pattern\":{\"fillmode\":\"overlay\",\"size\":10,\"solidity\":0.2}},\"type\":\"barpolar\"}],\"pie\":[{\"automargin\":true,\"type\":\"pie\"}]},\"layout\":{\"autotypenumbers\":\"strict\",\"colorway\":[\"#636efa\",\"#EF553B\",\"#00cc96\",\"#ab63fa\",\"#FFA15A\",\"#19d3f3\",\"#FF6692\",\"#B6E880\",\"#FF97FF\",\"#FECB52\"],\"font\":{\"color\":\"#2a3f5f\"},\"hovermode\":\"closest\",\"hoverlabel\":{\"align\":\"left\"},\"paper_bgcolor\":\"white\",\"plot_bgcolor\":\"#E5ECF6\",\"polar\":{\"bgcolor\":\"#E5ECF6\",\"angularaxis\":{\"gridcolor\":\"white\",\"linecolor\":\"white\",\"ticks\":\"\"},\"radialaxis\":{\"gridcolor\":\"white\",\"linecolor\":\"white\",\"ticks\":\"\"}},\"ternary\":{\"bgcolor\":\"#E5ECF6\",\"aaxis\":{\"gridcolor\":\"white\",\"linecolor\":\"white\",\"ticks\":\"\"},\"baxis\":{\"gridcolor\":\"white\",\"linecolor\":\"white\",\"ticks\":\"\"},\"caxis\":{\"gridcolor\":\"white\",\"linecolor\":\"white\",\"ticks\":\"\"}},\"coloraxis\":{\"colorbar\":{\"outlinewidth\":0,\"ticks\":\"\"}},\"colorscale\":{\"sequential\":[[0.0,\"#0d0887\"],[0.1111111111111111,\"#46039f\"],[0.2222222222222222,\"#7201a8\"],[0.3333333333333333,\"#9c179e\"],[0.4444444444444444,\"#bd3786\"],[0.5555555555555556,\"#d8576b\"],[0.6666666666666666,\"#ed7953\"],[0.7777777777777778,\"#fb9f3a\"],[0.8888888888888888,\"#fdca26\"],[1.0,\"#f0f921\"]],\"sequentialminus\":[[0.0,\"#0d0887\"],[0.1111111111111111,\"#46039f\"],[0.2222222222222222,\"#7201a8\"],[0.3333333333333333,\"#9c179e\"],[0.4444444444444444,\"#bd3786\"],[0.5555555555555556,\"#d8576b\"],[0.6666666666666666,\"#ed7953\"],[0.7777777777777778,\"#fb9f3a\"],[0.8888888888888888,\"#fdca26\"],[1.0,\"#f0f921\"]],\"diverging\":[[0,\"#8e0152\"],[0.1,\"#c51b7d\"],[0.2,\"#de77ae\"],[0.3,\"#f1b6da\"],[0.4,\"#fde0ef\"],[0.5,\"#f7f7f7\"],[0.6,\"#e6f5d0\"],[0.7,\"#b8e186\"],[0.8,\"#7fbc41\"],[0.9,\"#4d9221\"],[1,\"#276419\"]]},\"xaxis\":{\"gridcolor\":\"white\",\"linecolor\":\"white\",\"ticks\":\"\",\"title\":{\"standoff\":15},\"zerolinecolor\":\"white\",\"automargin\":true,\"zerolinewidth\":2},\"yaxis\":{\"gridcolor\":\"white\",\"linecolor\":\"white\",\"ticks\":\"\",\"title\":{\"standoff\":15},\"zerolinecolor\":\"white\",\"automargin\":true,\"zerolinewidth\":2},\"scene\":{\"xaxis\":{\"backgroundcolor\":\"#E5ECF6\",\"gridcolor\":\"white\",\"linecolor\":\"white\",\"showbackground\":true,\"ticks\":\"\",\"zerolinecolor\":\"white\",\"gridwidth\":2},\"yaxis\":{\"backgroundcolor\":\"#E5ECF6\",\"gridcolor\":\"white\",\"linecolor\":\"white\",\"showbackground\":true,\"ticks\":\"\",\"zerolinecolor\":\"white\",\"gridwidth\":2},\"zaxis\":{\"backgroundcolor\":\"#E5ECF6\",\"gridcolor\":\"white\",\"linecolor\":\"white\",\"showbackground\":true,\"ticks\":\"\",\"zerolinecolor\":\"white\",\"gridwidth\":2}},\"shapedefaults\":{\"line\":{\"color\":\"#2a3f5f\"}},\"annotationdefaults\":{\"arrowcolor\":\"#2a3f5f\",\"arrowhead\":0,\"arrowwidth\":1},\"geo\":{\"bgcolor\":\"white\",\"landcolor\":\"#E5ECF6\",\"subunitcolor\":\"white\",\"showland\":true,\"showlakes\":true,\"lakecolor\":\"white\"},\"title\":{\"x\":0.05},\"mapbox\":{\"style\":\"light\"}}},\"xaxis\":{\"anchor\":\"y\",\"domain\":[0.0,1.0],\"title\":{\"text\":\"torque\"}},\"yaxis\":{\"anchor\":\"x\",\"domain\":[0.0,1.0],\"title\":{\"text\":\"total_reward\"}},\"annotations\":[{\"font\":{\"size\":16},\"showarrow\":false,\"text\":\"\",\"x\":0.5,\"xanchor\":\"center\",\"xref\":\"paper\",\"y\":1.0,\"yanchor\":\"bottom\",\"yref\":\"paper\"}],\"legend\":{\"title\":{\"text\":\"\"}},\"showlegend\":false},                        {\"responsive\": true}                    ).then(function(){\n",
       "                            \n",
       "var gd = document.getElementById('e064e404-1c97-42dc-81c6-e1a53fc6a2ad');\n",
       "var x = new MutationObserver(function (mutations, observer) {{\n",
       "        var display = window.getComputedStyle(gd).display;\n",
       "        if (!display || display === 'none') {{\n",
       "            console.log([gd, 'removed!']);\n",
       "            Plotly.purge(gd);\n",
       "            observer.disconnect();\n",
       "        }}\n",
       "}});\n",
       "\n",
       "// Listen for the removal of the full notebook cells\n",
       "var notebookContainer = gd.closest('#notebook-container');\n",
       "if (notebookContainer) {{\n",
       "    x.observe(notebookContainer, {childList: true});\n",
       "}}\n",
       "\n",
       "// Listen for the clearing of the current output cell\n",
       "var outputEl = gd.closest('.output');\n",
       "if (outputEl) {{\n",
       "    x.observe(outputEl, {childList: true});\n",
       "}}\n",
       "\n",
       "                        })                };                });            </script>        </div>"
      ]
     },
     "metadata": {},
     "output_type": "display_data"
    }
   ],
   "source": [
    "ax = bx.lineplot(data=df, x=\"torque\", y=\"total_reward\")\n",
    "ax.figure"
   ]
  },
  {
   "cell_type": "code",
   "execution_count": 8,
   "id": "4a40a1b9-fba7-4e69-9298-db3ec8488ac1",
   "metadata": {},
   "outputs": [],
   "source": [
    "class Buffer:    \n",
    "    def __init__(self, capacity=10000,state_dim=3,action_dim=1):\n",
    "        \n",
    "        self.capacity = capacity\n",
    "        \n",
    "       \n",
    "        \n",
    "        self.num_samples = 0\n",
    "\n",
    "        # followong SARSA we need to store: state ,action ,reward ,next state ,next action\n",
    "        self.state_tape = torch.zeros((self.capacity, state_dim))\n",
    "        self.action_tape = torch.zeros((self.capacity, action_dim))\n",
    "        self.reward_tape = torch.zeros((self.capacity, 1))\n",
    "        self.next_state_tape = torch.zeros((self.capacity, state_dim))\n",
    "        self.next_action_tape = torch.zeros((self.capacity, action_dim))\n",
    "        \n",
    "    def add(self, sample):\n",
    "       # sample = (state, action, reward, next_state, next_action)\n",
    "        #to replace\n",
    "        index = self.num_samples % self.capacity\n",
    "\n",
    "        self.state_tape[index] = torch.from_numpy(sample[0])\n",
    "        self.action_tape[index] = sample[1]\n",
    "        self.reward_tape[index] = sample[2]\n",
    "        self.next_state_tape[index] = torch.from_numpy(sample[3])\n",
    "        self.next_action_tape[index] = sample[4]\n",
    "        self.num_samples += 1\n",
    "\n",
    "\n",
    "\n",
    "        \n",
    "class Qnetwork(nn.Module):\n",
    "    def __init__(self,state_dim=3,action_dim=1,hidden_dim=32):\n",
    "        super().__init__()\n",
    "        self.input_shape = state_dim + action_dim\n",
    "        self.fc1 = nn.Linear(self.input_shape,hidden_dim)\n",
    "        self.fc2 = nn.Linear(hidden_dim,hidden_dim)\n",
    "        self.fc3 = nn.Linear(hidden_dim,1)\n",
    "        self.activation=nn.ReLU()\n",
    "    def forward(self,x):\n",
    "        output = self.fc1(x)\n",
    "        output = self.activation(output)\n",
    "        output = self.fc2(output)\n",
    "        output = self.activation(output)\n",
    "        output = self.fc3(output)\n",
    "        return output\n",
    "        "
   ]
  },
  {
   "cell_type": "code",
   "execution_count": 14,
   "id": "6da3a86f-316e-4cf5-a34f-93dc4145c797",
   "metadata": {},
   "outputs": [],
   "source": [
    "buffer= Buffer()\n",
    "# Create the Pendulum environment\n",
    "env = NormalizedEnv(gym.make('Pendulum-v1'))\n",
    "#agent = RandomAgent(env)\n",
    "agent= HeuristicPendulumAgent(env,0.6)\n",
    "# Set the environment to the initial state\n",
    "state = env.reset()\n",
    "average_total_reward = 0\n",
    "# Run the simulation for 10 time steps\n",
    "for e in range(100):\n",
    "    state = env.reset()[0]\n",
    "    total_reward = 0\n",
    "    for t in range(100):\n",
    "        # Render the environment\n",
    "        env.render()\n",
    "        temp = state\n",
    "        # Take a random action\n",
    "        action = agent.compute_action(state)\n",
    "        next_state, reward, terminated, truncated , info = env.step(action)\n",
    "        state = next_state\n",
    "        total_reward += reward\n",
    "        next_action = agent.compute_action(next_state)\n",
    "        sample = (temp,action,reward,next_state,next_action)\n",
    "        buffer.add(sample)\n",
    "    # Close the environment\n",
    "    average_total_reward+=total_reward/num_episodes\n",
    "env.close()"
   ]
  },
  {
   "cell_type": "code",
   "execution_count": 217,
   "id": "fe17a568-4f62-4630-bb09-d27081a83834",
   "metadata": {},
   "outputs": [
    {
     "data": {
      "text/plain": [
       "tensor([[ 0.1946, -0.9809,  0.1088],\n",
       "        [ 0.1726, -0.9850, -0.4469],\n",
       "        [ 0.1050, -0.9945, -1.3656],\n",
       "        ...,\n",
       "        [ 0.7910,  0.6119, -2.5445],\n",
       "        [ 0.8551,  0.5185, -2.2656],\n",
       "        [ 0.9038,  0.4280, -2.0567]])"
      ]
     },
     "execution_count": 217,
     "metadata": {},
     "output_type": "execute_result"
    }
   ],
   "source": [
    "buffer.state_tape"
   ]
  },
  {
   "cell_type": "code",
   "execution_count": null,
   "id": "98d67baa-814e-4933-afb3-799e2c7b2dc1",
   "metadata": {},
   "outputs": [],
   "source": [
    "def update_average(mparam, tparam,beta):\n",
    "        \n",
    "        return tparam * (1-beta) + (beta) * mparam"
   ]
  },
  {
   "cell_type": "code",
   "execution_count": 74,
   "id": "56f38801-cc62-470f-aea5-de263a2794b4",
   "metadata": {},
   "outputs": [],
   "source": [
    "def EMA(model,target,beta):\n",
    "    for current_params, ma_params in zip(\n",
    "            model.parameters(), target.parameters()):\n",
    "            old_weight, up_weight = ma_params.data, current_params.data\n",
    "            ma_params.data = update_average(up_weight, old_weight,beta)\n",
    "    "
   ]
  },
  {
   "cell_type": "code",
   "execution_count": 144,
   "id": "8486951c-37a6-429b-8dca-63d28dbf27dc",
   "metadata": {},
   "outputs": [],
   "source": [
    "model = Qnetwork().to(device)\n",
    "target = Qnetwork().to(device)\n",
    "for param in target.parameters():\n",
    "        param.requires_grad = False\n",
    "EMA(model,target,1)\n",
    "\n",
    "\n",
    "epochs=1000\n",
    "batch_size=128\n",
    "lr=1e-4\n",
    "beta=0.5\n",
    "gamma=0.99\n",
    "loss=torch.nn.MSELoss()\n",
    "optimizer=torch.optim.SGD(model.parameters(),lr)\n"
   ]
  },
  {
   "cell_type": "code",
   "execution_count": 211,
   "id": "7fe0b4f5-605a-40ef-b1cf-5c0c86ca6ae3",
   "metadata": {},
   "outputs": [
    {
     "data": {
      "text/plain": [
       "78.125"
      ]
     },
     "execution_count": 211,
     "metadata": {},
     "output_type": "execute_result"
    }
   ],
   "source": [
    "10000/128"
   ]
  },
  {
   "cell_type": "code",
   "execution_count": 145,
   "id": "fc057ec8-f1cd-4df1-aa62-e674b6401988",
   "metadata": {},
   "outputs": [],
   "source": [
    "from tqdm import tqdm"
   ]
  },
  {
   "cell_type": "code",
   "execution_count": 146,
   "id": "7dd1b067-71f9-40f3-acb7-3b5d4b26dd5e",
   "metadata": {},
   "outputs": [
    {
     "name": "stderr",
     "output_type": "stream",
     "text": [
      "100%|██████████████████████████████████████████████████████████████████████████████| 1000/1000 [02:30<00:00,  6.66it/s]\n"
     ]
    }
   ],
   "source": [
    "losses = []\n",
    "for e in tqdm(range(epochs)):\n",
    "    epoch_loss = 0\n",
    "    for index in range(0, buffer.num_samples, batch_size):\n",
    "        optimizer.zero_grad()\n",
    "        \n",
    "        action_batch = buffer.action_tape[index:(index+batch_size)]\n",
    "        state_batch = buffer.state_tape[index:(index+batch_size)]\n",
    "        next_action_batch = buffer.next_action_tape[index:(index+batch_size)]\n",
    "        next_state_batch = buffer.next_state_tape[index:(index+batch_size)]\n",
    "        reward_batch = buffer.reward_tape[index:(index+batch_size)].to(device)\n",
    "       \n",
    "        input_model = torch.cat((state_batch,action_batch),dim=1).to(device)\n",
    "        input_target = torch.cat((next_state_batch,next_action_batch),dim=1).to(device)\n",
    "        \n",
    "        x = model(input_model)\n",
    "        y = reward_batch + gamma*target(input_target)\n",
    "       \n",
    "        l=loss(x,y)\n",
    "        l.backward()\n",
    "        optimizer.step()\n",
    "        epoch_loss += l.item()\n",
    "        \n",
    "        EMA(model,target,1)\n",
    "    losses.append(epoch_loss)\n",
    "        "
   ]
  },
  {
   "cell_type": "markdown",
   "id": "2e6d2597-cf95-4edd-9d84-c57f0776f1cb",
   "metadata": {},
   "source": [
    "for p in model.parameters():\n",
    "    print(p)"
   ]
  },
  {
   "cell_type": "code",
   "execution_count": 147,
   "id": "3ed8ae30-b7b2-4f07-9c68-b20063626b76",
   "metadata": {},
   "outputs": [
    {
     "data": {
      "text/plain": [
       "1000"
      ]
     },
     "execution_count": 147,
     "metadata": {},
     "output_type": "execute_result"
    }
   ],
   "source": [
    "len(losses)"
   ]
  },
  {
   "cell_type": "code",
   "execution_count": 148,
   "id": "c044e948-e6ec-403c-a135-6fa5d8a3ecab",
   "metadata": {},
   "outputs": [
    {
     "data": {
      "text/plain": [
       "[<matplotlib.lines.Line2D at 0x1aca90c1310>]"
      ]
     },
     "execution_count": 148,
     "metadata": {},
     "output_type": "execute_result"
    },
    {
     "data": {
      "image/png": "[encoded data removed]",
      "text/plain": [
       "<Figure size 640x480 with 1 Axes>"
      ]
     },
     "metadata": {},
     "output_type": "display_data"
    }
   ],
   "source": [
    "import matplotlib.pyplot as plt\n",
    "x=list(range(epochs))\n",
    "y=losses\n",
    "plt.plot(x,y)"
   ]
  },
  {
   "cell_type": "code",
   "execution_count": null,
   "id": "37eff8f9-4bc3-4471-8308-5f34c3d423fd",
   "metadata": {},
   "outputs": [],
   "source": [
    "def polar_heatmap(radius,angle,model,speed,action):\n",
    "    # Create a figure object and specify the dimensions of the plot\n",
    "    fig = plt.figure(figsize=(9,9))\n",
    "    # Creating the axes object\n",
    "    ax = Axes3D(fig)\n",
    "    # Creating a meshgrid for the plot\n",
    "    R, th = np.meshgrid(radius, angle)\n",
    "    z = np.sin(R)\n",
    "    # Specifying the projection as polar\n",
    "    plt.subplot(projection=\"polar\")\n",
    "    # Defining the colormesh to define the color as per the values\n",
    "    plt.pcolormesh(th, R, z)\n",
    "    # PLotting the figure\n",
    "    plt.plot(angle, R, color='k', ls='none') \n",
    "    # Displaying the plot\n",
    "    plt.show()"
   ]
  },
  {
   "cell_type": "code",
   "execution_count": 201,
   "id": "6e4fb9af-c613-4719-b766-cc38f30d1986",
   "metadata": {},
   "outputs": [],
   "source": [
    "pi=torch.acos(torch.zeros(1)).item() * 2\n",
    "radius = torch.linspace(0, 1, 100)\n",
    "angle = torch.linspace(0, 2 * pi, 100)\n",
    "x=torch.cos(angle)\n",
    "y=torch.sin(angle)\n",
    "z=torch.zeros(angle.shape[0],radius.shape[0])\n",
    "average_speed=buffer.state_tape[:,2].mean()\n",
    "action=0.6\n",
    "for i in range(x.shape[0]):\n",
    "    inp = torch.tensor([x[i],y[i],average_speed,action]).to(device)\n",
    "    # z is constant with respect to the radius\n",
    "    z[i,:] = model(inp)\n",
    "angle = angle.detach().numpy()\n",
    "z = z.detach().numpy()\n",
    "radius = radius.detach().numpy()"
   ]
  },
  {
   "cell_type": "code",
   "execution_count": 182,
   "id": "3efc5b81-0bdd-400b-8876-f3e3838b047d",
   "metadata": {},
   "outputs": [],
   "source": [
    "from mpl_toolkits.mplot3d import Axes3D"
   ]
  },
  {
   "cell_type": "code",
   "execution_count": 203,
   "id": "b051d4b0-6e5a-41cc-acf7-e16c76a5c0f3",
   "metadata": {},
   "outputs": [
    {
     "name": "stderr",
     "output_type": "stream",
     "text": [
      "C:\\Users\\torge\\AppData\\Local\\Temp\\ipykernel_25364\\918387216.py:2: MatplotlibDeprecationWarning: Axes3D(fig) adding itself to the figure is deprecated since 3.4. Pass the keyword argument auto_add_to_figure=False and use fig.add_axes(ax) to suppress this warning. The default value of auto_add_to_figure will change to False in mpl3.5 and True values will no longer work in 3.6.  This is consistent with other Axes classes.\n",
      "  ax = Axes3D(fig)\n",
      "C:\\Users\\torge\\AppData\\Local\\Temp\\ipykernel_25364\\918387216.py:6: MatplotlibDeprecationWarning: Auto-removal of grids by pcolor() and pcolormesh() is deprecated since 3.5 and will be removed two minor releases later; please call grid(False) first.\n",
      "  plt.pcolormesh(th, r, z)\n"
     ]
    },
    {
     "data": {
      "image/png": "[encoded data removed]",
      "text/plain": [
       "<Figure size 640x480 with 1 Axes>"
      ]
     },
     "metadata": {},
     "output_type": "display_data"
    }
   ],
   "source": [
    "fig = plt.figure()\n",
    "ax = Axes3D(fig)\n",
    "r, th = np.meshgrid(radius, angle)\n",
    "plt.subplot(projection=\"polar\")\n",
    "\n",
    "plt.pcolormesh(th, r, z)\n",
    "#plt.pcolormesh(th, z, r)\n",
    "\n",
    "plt.plot(angle, r, color='k', ls='none') \n",
    "plt.grid()\n",
    "\n",
    "plt.show()"
   ]
  },
  {
   "cell_type": "code",
   "execution_count": 204,
   "id": "ccf7e74e-3c2c-4608-bddc-7eb3d30cd2c8",
   "metadata": {},
   "outputs": [
    {
     "data": {
      "text/plain": [
       "tensor(0.7383)"
      ]
     },
     "execution_count": 204,
     "metadata": {},
     "output_type": "execute_result"
    }
   ],
   "source": [
    "average_speed"
   ]
  },
  {
   "cell_type": "code",
   "execution_count": 205,
   "id": "fb8b75d3-b155-46a1-a610-bf553fa64435",
   "metadata": {},
   "outputs": [
    {
     "data": {
      "text/plain": [
       "0.6"
      ]
     },
     "execution_count": 205,
     "metadata": {},
     "output_type": "execute_result"
    }
   ],
   "source": [
    "action"
   ]
  },
  {
   "cell_type": "code",
   "execution_count": 210,
   "id": "1587e26c-863c-4681-9bf6-c355b62746ab",
   "metadata": {},
   "outputs": [
    {
     "name": "stderr",
     "output_type": "stream",
     "text": [
      "C:\\Users\\torge\\AppData\\Local\\Temp\\ipykernel_25364\\553970007.py:18: MatplotlibDeprecationWarning: Axes3D(fig) adding itself to the figure is deprecated since 3.4. Pass the keyword argument auto_add_to_figure=False and use fig.add_axes(ax) to suppress this warning. The default value of auto_add_to_figure will change to False in mpl3.5 and True values will no longer work in 3.6.  This is consistent with other Axes classes.\n",
      "  ax = Axes3D(fig)\n",
      "C:\\Users\\torge\\AppData\\Local\\Temp\\ipykernel_25364\\553970007.py:22: MatplotlibDeprecationWarning: Auto-removal of grids by pcolor() and pcolormesh() is deprecated since 3.5 and will be removed two minor releases later; please call grid(False) first.\n",
      "  plt.pcolormesh(th, r, z)\n"
     ]
    },
    {
     "data": {
      "image/png": "[encoded data removed]",
      "text/plain": [
       "<Figure size 640x480 with 1 Axes>"
      ]
     },
     "metadata": {},
     "output_type": "display_data"
    }
   ],
   "source": [
    "pi=torch.acos(torch.zeros(1)).item() * 2\n",
    "radius = torch.linspace(0, 1, 100)\n",
    "angle = torch.linspace(0, 2 * pi, 100)\n",
    "x=torch.cos(angle)\n",
    "y=torch.sin(angle)\n",
    "z=torch.zeros(angle.shape[0],radius.shape[0])\n",
    "average_speed=-5.0\n",
    "action=0.6\n",
    "for i in range(x.shape[0]):\n",
    "    inp = torch.tensor([x[i],y[i],average_speed,action]).to(device)\n",
    "    # z is constant with respect to the radius\n",
    "    z[i,:] = model(inp)\n",
    "angle = angle.detach().numpy()\n",
    "z = z.detach().numpy()\n",
    "radius = radius.detach().numpy()\n",
    "\n",
    "fig = plt.figure()\n",
    "ax = Axes3D(fig)\n",
    "r, th = np.meshgrid(radius, angle)\n",
    "plt.subplot(projection=\"polar\")\n",
    "\n",
    "plt.pcolormesh(th, r, z)\n",
    "#plt.pcolormesh(th, z, r)\n",
    "\n",
    "plt.plot(angle, r, color='k', ls='none') \n",
    "plt.grid()\n",
    "\n",
    "plt.show()"
   ]
  },
  {
   "cell_type": "code",
   "execution_count": null,
   "id": "a3a07ee3-caca-4c0f-a5a4-762cad1f697c",
   "metadata": {},
   "outputs": [],
   "source": []
  }
 ],
 "metadata": {
  "kernelspec": {
   "display_name": "Python 3 (ipykernel)",
   "language": "python",
   "name": "python3"
  },
  "language_info": {
   "codemirror_mode": {
    "name": "ipython",
    "version": 3
   },
   "file_extension": ".py",
   "mimetype": "text/x-python",
   "name": "python",
   "nbconvert_exporter": "python",
   "pygments_lexer": "ipython3",
   "version": "3.9.13"
  }
 },
 "nbformat": 4,
 "nbformat_minor": 5
}
